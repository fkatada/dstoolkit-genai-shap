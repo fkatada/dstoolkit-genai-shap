{
 "cells": [
  {
   "cell_type": "code",
   "execution_count": 50,
   "id": "e76ef743-a835-4e13-b2a1-18c76d6354da",
   "metadata": {},
   "outputs": [],
   "source": [
    "from llama_index.core.llama_dataset import download_llama_dataset\n",
    "from llama_index.core import VectorStoreIndex, Settings\n",
    "from llama_index.embeddings.huggingface import HuggingFaceEmbedding\n",
    "from llama_index.llms.ollama import Ollama\n",
    "import yaml\n",
    "from pydantic import BaseModel\n",
    "from ragas.metrics import (\n",
    "    Faithfulness,\n",
    "    AnswerRelevancy,\n",
    "    ContextPrecision,\n",
    "    ContextRecall,\n",
    ")\n",
    "from ragas.llms import LlamaIndexLLMWrapper"
   ]
  },
  {
   "cell_type": "code",
   "execution_count": 3,
   "id": "b849c91b-c8a1-45d6-a330-ba460323798b",
   "metadata": {},
   "outputs": [],
   "source": [
    "with open('config.yml') as config_file:\n",
    "    config_data = yaml.safe_load(config_file)\n",
    "\n",
    "class DatasetConfig(BaseModel):\n",
    "    dataset_class: str\n",
    "    download_dir: str\n",
    "    \n",
    "dataset_config = DatasetConfig(**config_data['dataset'])\n",
    "\n",
    "class LocalModelConfig(BaseModel):\n",
    "    embedding_model_name: str\n",
    "    llm_model_name: str\n",
    "\n",
    "local_model_config = LocalModelConfig(**config_data['local_model'])"
   ]
  },
  {
   "cell_type": "code",
   "execution_count": 51,
   "id": "1d09abc3-fb04-4073-b1b4-e62c477572ac",
   "metadata": {},
   "outputs": [],
   "source": [
    "llm = Ollama(model=local_model_config.llm_model_name, request_timeout=360.0)\n",
    "\n",
    "Settings.embed_model = HuggingFaceEmbedding(model_name=local_model_config.embedding_model_name)\n",
    "Settings.llm = llm\n",
    "evaluator_llm = LlamaIndexLLMWrapper(llm)"
   ]
  },
  {
   "cell_type": "code",
   "execution_count": 5,
   "id": "fdd9d286-1a99-4657-bb19-80127bfd50eb",
   "metadata": {},
   "outputs": [
    {
     "name": "stderr",
     "output_type": "stream",
     "text": [
      "100%|██████████████████████████████████████████████████████████████████████████████████████████████████████████████████████████████████████████████████████████████████████████████████████████████████████████████| 20/20 [00:16<00:00,  1.22it/s]\n",
      "Loading files: 100%|█████████████████████████████████████████████████████████████████████████████████████████████████████████████████████████████████████████████████████████████████████████████████████████████| 20/20 [00:49<00:00,  2.46s/file]\n"
     ]
    }
   ],
   "source": [
    "rag_dataset, documents = download_llama_dataset(\n",
    "    llama_dataset_class=dataset_config.dataset_class, \n",
    "    download_dir=dataset_config.download_dir,\n",
    "    show_progress=True\n",
    ")"
   ]
  },
  {
   "cell_type": "code",
   "execution_count": 6,
   "id": "bc4126e2-78cd-4401-8750-f03c2e4be693",
   "metadata": {},
   "outputs": [
    {
     "data": {
      "application/vnd.jupyter.widget-view+json": {
       "model_id": "5afdc50a76e54e7eb1609b1ae504ec4c",
       "version_major": 2,
       "version_minor": 0
      },
      "text/plain": [
       "Parsing nodes:   0%|          | 0/1037 [00:00<?, ?it/s]"
      ]
     },
     "metadata": {},
     "output_type": "display_data"
    },
    {
     "data": {
      "application/vnd.jupyter.widget-view+json": {
       "model_id": "238ce2031f6c4968b7bc4d293648dd06",
       "version_major": 2,
       "version_minor": 0
      },
      "text/plain": [
       "Generating embeddings:   0%|          | 0/1159 [00:00<?, ?it/s]"
      ]
     },
     "metadata": {},
     "output_type": "display_data"
    }
   ],
   "source": [
    "index = VectorStoreIndex.from_documents(\n",
    "    documents=documents,\n",
    "    show_progress=True\n",
    ")"
   ]
  },
  {
   "cell_type": "code",
   "execution_count": 10,
   "id": "0b787ccf-1ae3-46b0-b158-157102723610",
   "metadata": {},
   "outputs": [],
   "source": [
    "query_engine = index.as_query_engine()"
   ]
  },
  {
   "cell_type": "code",
   "execution_count": 14,
   "id": "196bf672-66b4-4347-bb23-0a3fd1052cd0",
   "metadata": {},
   "outputs": [
    {
     "name": "stderr",
     "output_type": "stream",
     "text": [
      "100%|██████████████████████████████████████████████████████████████████████████████████████████████████████████████████████████████████████████████████████████████████████████████████████████████████████████████| 20/20 [01:37<00:00,  4.90s/it]\n",
      "100%|██████████████████████████████████████████████████████████████████████████████████████████████████████████████████████████████████████████████████████████████████████████████████████████████████████████████| 20/20 [01:46<00:00,  5.33s/it]\n",
      "100%|██████████████████████████████████████████████████████████████████████████████████████████████████████████████████████████████████████████████████████████████████████████████████████████████████████████████| 20/20 [01:46<00:00,  5.30s/it]\n",
      "100%|██████████████████████████████████████████████████████████████████████████████████████████████████████████████████████████████████████████████████████████████████████████████████████████████████████████████| 20/20 [01:23<00:00,  4.17s/it]\n",
      "100%|██████████████████████████████████████████████████████████████████████████████████████████████████████████████████████████████████████████████████████████████████████████████████████████████████████████████| 20/20 [01:01<00:00,  3.07s/it]\n",
      "100%|██████████████████████████████████████████████████████████████████████████████████████████████████████████████████████████████████████████████████████████████████████████████████████████████████████████████| 20/20 [01:27<00:00,  4.36s/it]\n",
      "100%|██████████████████████████████████████████████████████████████████████████████████████████████████████████████████████████████████████████████████████████████████████████████████████████████████████████████| 20/20 [01:14<00:00,  3.71s/it]\n",
      "100%|██████████████████████████████████████████████████████████████████████████████████████████████████████████████████████████████████████████████████████████████████████████████████████████████████████████████| 20/20 [01:39<00:00,  4.98s/it]\n",
      "100%|██████████████████████████████████████████████████████████████████████████████████████████████████████████████████████████████████████████████████████████████████████████████████████████████████████████████| 20/20 [01:55<00:00,  5.79s/it]\n",
      "100%|██████████████████████████████████████████████████████████████████████████████████████████████████████████████████████████████████████████████████████████████████████████████████████████████████████████████| 15/15 [01:15<00:00,  5.03s/it]\n"
     ]
    }
   ],
   "source": [
    "predictions = rag_dataset.make_predictions_with(\n",
    "    predictor = query_engine,\n",
    "    show_progress = True,\n",
    "    batch_size = 20\n",
    ")"
   ]
  },
  {
   "cell_type": "code",
   "execution_count": 56,
   "id": "102b93a9-5bd5-4d1e-93c0-5a5bdf3b2988",
   "metadata": {
    "scrolled": true
   },
   "outputs": [
    {
     "data": {
      "text/plain": [
       "(\"How has Apple's total net sales changed over time?\",\n",
       " \"Based on the provided documents, Apple's total net sales have changed over time as follows:\\n\\n- For the quarterly period ended June 25, 2022, the total net sales were $82,959 million. (SOURCE: 2022 Q3 AAPL.pdf)\\n- For the quarterly period ended December 31, 2022, the total net sales were $117,154 million. (SOURCE: 2023 Q1 AAPL.pdf)\\n- For the quarterly period ended April 1, 2023, the total net sales were $94,836 million. (SOURCE: 2023 Q2 AAPL.pdf)\\n- For the quarterly period ended July 1, 2023, the total net sales were $81,797 million. (SOURCE: 2023 Q3 AAPL.pdf)\\n\\nFrom these figures, it can be observed that there was an increase in total net sales from the quarter ended June 25, 2022, to the quarter ended December 31, 2022. However, there was a subsequent decrease in total net sales in the quarters ended April 1, 2023, and July 1, 2023.\\n\\nSOURCE(S): 2022 Q3 AAPL.pdf, 2023 Q1 AAPL.pdf, 2023 Q2 AAPL.pdf, 2023 Q3 AAPL.pdf\")"
      ]
     },
     "execution_count": 56,
     "metadata": {},
     "output_type": "execute_result"
    }
   ],
   "source": [
    "idx = 0\n",
    "\n",
    "rag_dataset.examples[idx].query, rag_dataset.examples[idx].reference_answer "
   ]
  },
  {
   "cell_type": "code",
   "execution_count": 60,
   "id": "898c01f8-d0aa-4b7e-bab0-1f5d0c8f770c",
   "metadata": {
    "scrolled": true
   },
   "outputs": [
    {
     "data": {
      "text/plain": [
       "(\"Over time, Apple's total net sales have decreased.\",\n",
       " ['Products and Services Performance\\nThe following table shows net sales by category for the three- and six-month periods ended April 1, 2023 and March 26, 2022 (dollars in millions):\\nThree Months Ended Six Months Ended\\nApril 1,2023 March 26,2022 Change April 1,2023 March 26,2022 Change\\nNet sales by category:\\niPhone $ 51,334 $ 50,570 2 % $ 117,109 $ 122,198 (4)%\\nMac 7,168 10,435 (31)% 14,903 21,287 (30)%\\niPad 6,670 7,646 (13)% 16,066 14,894 8 %\\nWearables, Home and Accessories 8,757 8,806 (1)% 22,239 23,507 (5)%\\nServices 20,907 19,821 5 % 41,673 39,337 6 %\\nTotal net sales $ 94,836 $ 97,278 (3)% $ 211,990 $ 221,223 (4)%\\niPhone\\niPhone net sales were relatively flat during the second quarter of 2023 compared to the second quarter of 2022. Year-over-year iPhone net sales decreasedduring the first six months of 2023 due primarily to lower net sales from the Company’s new iPhone models launched in the fourth quarter of 2022.\\nMac\\nMac net sales decreased during the second quarter and first six months of 2023 compared to the same periods in 2022 due primarily to lower net sales ofMacBook Pro.\\niPad\\niPad net sales decreased during the second quarter of 2023 compared to the second quarter of 2022 due primarily to lower net sales of iPad Pro and iPad Air .\\nYear-over-year iPad net sales increased during the first six months of 2023 due primarily to higher net sales of iPad, partially offset by lower net sales of iPadmini.\\nWearables, Home and Accessories\\nWearables, Home and Accessories net sales were relatively flat during the second quarter of 2023 compared to the second quarter of 2022. Year-over-yearWearables, Home and Accessories net sales decreased during the first six months of 2023 due primarily to lower net sales of AirPods.\\nServices\\nServices net sales increased during the second quarter and first six months of 2023 compared to the same periods in 2022 due primarily to higher net sales fromcloud services, music and advertising.\\n® ®\\n®\\n®\\nApple Inc. | Q2 2023 Form 10-Q | 16',\n",
       "  'Products and Services Performance\\nThe following table shows net sales by category for the three- and nine-month periods ended July 1, 2023 and June 25, 2022 (dollars in millions):\\nThree Months Ended Nine Months Ended\\nJuly 1,2023 June 25,2022 Change July 1,2023 June 25,2022 Change\\nNet sales by category:\\niPhone $ 39,669 $ 40,665 (2)% $ 156,778 $ 162,863 (4)%\\nMac 6,840 7,382 (7)% 21,743 28,669 (24)%\\niPad 5,791 7,224 (20)% 21,857 22,118 (1)%\\nWearables, Home and Accessories 8,284 8,084 2 % 30,523 31,591 (3)%\\nServices 21,213 19,604 8 % 62,886 58,941 7 %\\nTotal net sales $ 81,797 $ 82,959 (1)% $ 293,787 $ 304,182 (3)%\\niPhone\\niPhone net sales decreased during the third quarter and first nine months of 2023 compared to the same periods in 2022 due primarily to lower net sales fromcertain iPhone models, partially offset by higher net sales of iPhone 14 Pro models.\\nMac\\nMac net sales decreased during the third quarter and first nine months of 2023 compared to the same periods in 2022 due primarily to lower net sales of laptops.\\niPad\\niPad net sales decreased during the third quarter of 2023 compared to the third quarter of 2022 due primarily to lower net sales across most iPad models. Year-over-year iPad net sales were relatively flat during the first nine months of 2023.\\nWearables, Home and Accessories\\nWearables, Home and Accessories net sales increased during the third quarter of 2023 compared to the third quarter of 2022 due primarily to higher net sales ofWearables, which includes AirPods, Apple Watch and Beats products, partially offset by lower net sales of accessories. Year-over-year Wearables, Home\\nand Accessories net sales decreased during the first nine months of 2023 due primarily to lower net sales of Wearables and accessories.\\nServices\\nServices net sales increased during the third quarter of 2023 compared to the third quarter of 2022 due primarily to higher net sales from advertising, cloud\\nservices and the App Store. Year-over-year Services net sales increased during the first nine months of 2023 due primarily to higher net sales from cloudservices, advertising and music.\\n® ® ®\\n®\\nApple Inc. | Q3 2023 Form 10-Q | 16'])"
      ]
     },
     "execution_count": 60,
     "metadata": {},
     "output_type": "execute_result"
    }
   ],
   "source": [
    "predictions.predictions[idx].response, predictions.predictions[idx].contexts"
   ]
  },
  {
   "cell_type": "code",
   "execution_count": null,
   "id": "330613cb-e9b4-4131-a86e-6b8965f0793c",
   "metadata": {},
   "outputs": [],
   "source": []
  }
 ],
 "metadata": {
  "kernelspec": {
   "display_name": "Python 3 (ipykernel)",
   "language": "python",
   "name": "python3"
  },
  "language_info": {
   "codemirror_mode": {
    "name": "ipython",
    "version": 3
   },
   "file_extension": ".py",
   "mimetype": "text/x-python",
   "name": "python",
   "nbconvert_exporter": "python",
   "pygments_lexer": "ipython3",
   "version": "3.9.13"
  }
 },
 "nbformat": 4,
 "nbformat_minor": 5
}
