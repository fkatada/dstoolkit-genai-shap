{
 "cells": [
  {
   "cell_type": "code",
   "execution_count": 3,
   "id": "954723c8",
   "metadata": {},
   "outputs": [
    {
     "name": "stderr",
     "output_type": "stream",
     "text": [
      "<>:11: SyntaxWarning: invalid escape sequence '\\d'\n",
      "<>:11: SyntaxWarning: invalid escape sequence '\\d'\n",
      "C:\\Users\\micheleu\\AppData\\Local\\Temp\\ipykernel_20456\\236284061.py:11: SyntaxWarning: invalid escape sequence '\\d'\n",
      "  df = pd.read_csv(\".\\data\\slm-labels.csv\").head(100)\n"
     ]
    },
    {
     "name": "stdout",
     "output_type": "stream",
     "text": [
      "{\n",
      "    \"features\": [\n",
      "        {\n",
      "            \"feature\": \"there_is_any_train_station_identified_in_the_question\",\n",
      "            \"ftype\": \"boolean\"\n",
      "        },\n",
      "        {\n",
      "            \"feature\": \"list_of_train_station_features_identified_in_the_question\",\n",
      "            \"ftype\": \"list_of_strings\"\n",
      "        },\n",
      "        {\n",
      "            \"feature\": \"there_is_any_train_identified_in_the_question\",\n",
      "            \"ftype\": \"boolean\"\n",
      "        },\n",
      "        {\n",
      "            \"feature\": \"list_of_train_features_identified_in_the_question\",\n",
      "            \"ftype\": \"list_of_strings\"\n",
      "        },\n",
      "        {\n",
      "            \"feature\": \"there_is_any_platform_identified_in_the_question\",\n",
      "            \"ftype\": \"boolean\"\n",
      "        },\n",
      "        {\n",
      "            \"feature\": \"list_of_platform_features_identified_in_the_question\",\n",
      "            \"ftype\": \"list_of_strings\"\n",
      "        },\n",
      "        {\n",
      "            \"feature\": \"there_is_any_people_or_passengers_mentioned\",\n",
      "            \"ftype\": \"boolean\"\n",
      "        },\n",
      "        {\n",
      "            \"feature\": \"list_of_people_related_features_mentioned\",\n",
      "            \"ftype\": \"list_of_strings\"\n",
      "        },\n",
      "        {\n",
      "            \"feature\": \"is_the_question_about_realism_or_authenticity_of_the_image\",\n",
      "            \"ftype\": \"boolean\"\n",
      "        },\n",
      "        {\n",
      "            \"feature\": \"is_the_question_about_presence_of_infrastructure_elements\",\n",
      "            \"ftype\": \"boolean\"\n",
      "        }\n",
      "    ]\n",
      "}\n"
     ]
    },
    {
     "name": "stderr",
     "output_type": "stream",
     "text": [
      "100%|██████████| 20/20 [01:02<00:00,  3.10s/it]\n"
     ]
    }
   ],
   "source": [
    "import os\n",
    "import sys\n",
    "import pandas as pd\n",
    "import pyarrow.ipc as ipc\n",
    "from dotenv import load_dotenv\n",
    "\n",
    "# Load environment variables\n",
    "load_dotenv(\"../.env\")\n",
    "\n",
    "# Load csv file and convert to pandas DataFrame\n",
    "df = pd.read_csv(\".\\data\\slm-labels.csv\").head(100)\n",
    "\n",
    "# Prepare test dataset\n",
    "df_test_dataset = df.copy()\n",
    "df_test_dataset.drop(columns=['image'], inplace=True)\n",
    "df_test_dataset['user_input'] = df_test_dataset['analysis_gpt-4o-2024-11-20_v1class'].astype(str)\n",
    "df_test_dataset['severity_correct'] = (df_test_dataset['severity'] == df_test_dataset['pred_severity_phi']).astype('int64')\n",
    "df_test_dataset['classification_correct'] = (df_test_dataset['classification'] == df_test_dataset['pred_classification_phi']).astype('int64')\n",
    "df_test_dataset.to_json('./test-dataset.json', orient='records', indent=4)\n",
    "\n",
    "# Add source path and import Featurizer\n",
    "sys.path.append(\"lmshap\")\n",
    "from genaishap import Featurizer\n",
    "from openai import AzureOpenAI\n",
    "\n",
    "# Create features using Featurizer\n",
    "featurizer = Featurizer.from_pandas(df_test_dataset)\n",
    "\n",
    "# Initialize Azure OpenAI client\n",
    "client = AzureOpenAI(\n",
    "    azure_endpoint=os.environ['AZURE_OPENAI_ENDPOINT'],\n",
    "    api_key=os.environ['OPENAI_API_KEY'],\n",
    "    api_version=os.environ['OPENAI_API_VERSION'],\n",
    ")\n",
    "\n",
    "# Generate features using Azure OpenAI\n",
    "featurizer.create_features_using_azure_openai(\n",
    "    deployment_name=os.environ['DEPLOYMENT_NAME'],\n",
    "    num_features=10\n",
    ")\n",
    "print(featurizer.features.model_dump_json(indent=4))\n",
    "\n",
    "# Fill out features\n",
    "featurizer.fill_out_features_using_azure_openai(\n",
    "    deployment_name=\"gpt-4o\",\n",
    "    batch_size=5\n",
    ")\n",
    "\n",
    "# Export features to JSON\n",
    "df_features = featurizer.to_pandas()\n",
    "df_features.to_json('data/test-features.json', orient='records', indent=4)\n"
   ]
  }
 ],
 "metadata": {
  "kernelspec": {
   "display_name": "crsb",
   "language": "python",
   "name": "python3"
  },
  "language_info": {
   "codemirror_mode": {
    "name": "ipython",
    "version": 3
   },
   "file_extension": ".py",
   "mimetype": "text/x-python",
   "name": "python",
   "nbconvert_exporter": "python",
   "pygments_lexer": "ipython3",
   "version": "3.12.9"
  }
 },
 "nbformat": 4,
 "nbformat_minor": 5
}
