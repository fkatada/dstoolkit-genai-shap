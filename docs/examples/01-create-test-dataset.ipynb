{
 "cells": [
  {
   "cell_type": "markdown",
   "id": "4c6c86f8-f214-446d-835d-118adbfec492",
   "metadata": {},
   "source": [
    "* 2.73 million of tokens from the llm\n",
    "* 3.19K of llm requests\n",
    "* 746.86K of tokens from the embeddings model\n",
    "* 212 embeddings requests\n",
    "* ~10 minutes for the creation of the index\n",
    "* ~60 minutes for the execution of the RAG to get the Bot answers\n",
    "* ~4 hours for the calculation of the RAGAS metrics"
   ]
  },
  {
   "cell_type": "code",
   "execution_count": 35,
   "id": "e76ef743-a835-4e13-b2a1-18c76d6354da",
   "metadata": {},
   "outputs": [],
   "source": [
    "from llama_index.core.llama_dataset import download_llama_dataset\n",
    "from dotenv import load_dotenv\n",
    "from llama_index.llms.azure_openai import AzureOpenAI\n",
    "from llama_index.embeddings.azure_openai import AzureOpenAIEmbedding\n",
    "import os\n",
    "from llama_index.core import VectorStoreIndex, Settings\n",
    "from ragas.metrics import (\n",
    "    Faithfulness,\n",
    "    AnswerRelevancy,\n",
    "    ContextPrecision,\n",
    "    ContextRecall\n",
    ")\n",
    "from ragas.llms import LlamaIndexLLMWrapper\n",
    "from ragas.embeddings import LlamaIndexEmbeddingsWrapper\n",
    "from ragas.dataset_schema import SingleTurnSample, EvaluationDataset\n",
    "from ragas.evaluation import evaluate\n",
    "from ragas.run_config import RunConfig"
   ]
  },
  {
   "cell_type": "code",
   "execution_count": 11,
   "id": "b942caba-a739-43a8-930a-e19b01e15517",
   "metadata": {},
   "outputs": [
    {
     "data": {
      "text/plain": [
       "True"
      ]
     },
     "execution_count": 11,
     "metadata": {},
     "output_type": "execute_result"
    }
   ],
   "source": [
    "load_dotenv()"
   ]
  },
  {
   "cell_type": "code",
   "execution_count": 20,
   "id": "fdd9d286-1a99-4657-bb19-80127bfd50eb",
   "metadata": {},
   "outputs": [
    {
     "name": "stderr",
     "output_type": "stream",
     "text": [
      "100%|██████████████████████████████████████████████████████████████████████████████████████████████████████████████████████████████████████████████████████████████████████████████████████████████████████████████| 20/20 [00:46<00:00,  2.31s/it]\n",
      "Loading files: 100%|█████████████████████████████████████████████████████████████████████████████████████████████████████████████████████████████████████████████████████████████████████████████████████████████| 20/20 [00:59<00:00,  2.98s/file]\n"
     ]
    }
   ],
   "source": [
    "rag_dataset, documents = download_llama_dataset(\n",
    "    llama_dataset_class=\"DocugamiKgRagSec10Q\", \n",
    "    download_dir=\"./data\",\n",
    "    show_progress=True\n",
    ")"
   ]
  },
  {
   "cell_type": "code",
   "execution_count": 21,
   "id": "79c41c20-4deb-4958-a14a-8d9dba49f8fc",
   "metadata": {},
   "outputs": [
    {
     "data": {
      "text/html": [
       "<div>\n",
       "<style scoped>\n",
       "    .dataframe tbody tr th:only-of-type {\n",
       "        vertical-align: middle;\n",
       "    }\n",
       "\n",
       "    .dataframe tbody tr th {\n",
       "        vertical-align: top;\n",
       "    }\n",
       "\n",
       "    .dataframe thead th {\n",
       "        text-align: right;\n",
       "    }\n",
       "</style>\n",
       "<table border=\"1\" class=\"dataframe\">\n",
       "  <thead>\n",
       "    <tr style=\"text-align: right;\">\n",
       "      <th></th>\n",
       "      <th>query</th>\n",
       "      <th>reference_contexts</th>\n",
       "      <th>reference_answer</th>\n",
       "      <th>reference_answer_by</th>\n",
       "      <th>query_by</th>\n",
       "    </tr>\n",
       "  </thead>\n",
       "  <tbody>\n",
       "    <tr>\n",
       "      <th>81</th>\n",
       "      <td>How did Apple's inventory levels in the Q3 202...</td>\n",
       "      <td>None</td>\n",
       "      <td>The Q3 2022 report does not provide specific c...</td>\n",
       "      <td>ai (gpt-4-turbo (with human review))</td>\n",
       "      <td>human</td>\n",
       "    </tr>\n",
       "    <tr>\n",
       "      <th>7</th>\n",
       "      <td>How does Apple's R&amp;D expenditure in the most r...</td>\n",
       "      <td>None</td>\n",
       "      <td>In the most recent quarter ended July 1, 2023,...</td>\n",
       "      <td>ai (gpt-4-turbo (with human review))</td>\n",
       "      <td>human</td>\n",
       "    </tr>\n",
       "    <tr>\n",
       "      <th>49</th>\n",
       "      <td>What legal actions or potential liabilities ar...</td>\n",
       "      <td>None</td>\n",
       "      <td>The quarterly reports reveal the following leg...</td>\n",
       "      <td>ai (gpt-4-turbo (with human review))</td>\n",
       "      <td>human</td>\n",
       "    </tr>\n",
       "    <tr>\n",
       "      <th>71</th>\n",
       "      <td>For the latest quarter, what was the total rev...</td>\n",
       "      <td>None</td>\n",
       "      <td>The total revenue generated from Apple's iPhon...</td>\n",
       "      <td>ai (gpt-4-turbo (with human review))</td>\n",
       "      <td>human</td>\n",
       "    </tr>\n",
       "    <tr>\n",
       "      <th>26</th>\n",
       "      <td>How has Intel's total net sales fluctuated ove...</td>\n",
       "      <td>None</td>\n",
       "      <td>Intel's total net sales have fluctuated as fol...</td>\n",
       "      <td>ai (gpt-4-turbo (with human review))</td>\n",
       "      <td>human</td>\n",
       "    </tr>\n",
       "  </tbody>\n",
       "</table>\n",
       "</div>"
      ],
      "text/plain": [
       "                                                query reference_contexts  \\\n",
       "81  How did Apple's inventory levels in the Q3 202...               None   \n",
       "7   How does Apple's R&D expenditure in the most r...               None   \n",
       "49  What legal actions or potential liabilities ar...               None   \n",
       "71  For the latest quarter, what was the total rev...               None   \n",
       "26  How has Intel's total net sales fluctuated ove...               None   \n",
       "\n",
       "                                     reference_answer  \\\n",
       "81  The Q3 2022 report does not provide specific c...   \n",
       "7   In the most recent quarter ended July 1, 2023,...   \n",
       "49  The quarterly reports reveal the following leg...   \n",
       "71  The total revenue generated from Apple's iPhon...   \n",
       "26  Intel's total net sales have fluctuated as fol...   \n",
       "\n",
       "                     reference_answer_by query_by  \n",
       "81  ai (gpt-4-turbo (with human review))    human  \n",
       "7   ai (gpt-4-turbo (with human review))    human  \n",
       "49  ai (gpt-4-turbo (with human review))    human  \n",
       "71  ai (gpt-4-turbo (with human review))    human  \n",
       "26  ai (gpt-4-turbo (with human review))    human  "
      ]
     },
     "execution_count": 21,
     "metadata": {},
     "output_type": "execute_result"
    }
   ],
   "source": [
    "rag_dataset.to_pandas().sample(5)"
   ]
  },
  {
   "cell_type": "code",
   "execution_count": 22,
   "id": "537cb7f8-319c-4205-81a1-b5c0b2d2202d",
   "metadata": {
    "scrolled": true
   },
   "outputs": [],
   "source": [
    "embed_model = AzureOpenAIEmbedding(\n",
    "    model='text-embedding-3-small',\n",
    "    api_key=os.environ['OPENAI_API_KEY'],\n",
    "    api_version=os.environ['OPENAI_API_VERSION'],\n",
    "    azure_endpoint=os.environ['AZURE_OPENAI_ENDPOINT']\n",
    ")\n",
    "\n",
    "llm = AzureOpenAI(\n",
    "    engine=\"gpt-4o\", \n",
    "    model=\"gpt-4o\", \n",
    "    temperature=0.0,\n",
    "    api_key=os.environ['OPENAI_API_KEY'],\n",
    "    api_version=os.environ['OPENAI_API_VERSION'],\n",
    "    azure_endpoint=os.environ['AZURE_OPENAI_ENDPOINT']\n",
    ")"
   ]
  },
  {
   "cell_type": "code",
   "execution_count": 23,
   "id": "2aef9a8e-f402-4cb5-a972-bae3fa7e7122",
   "metadata": {},
   "outputs": [],
   "source": [
    "Settings.embed_model = embed_model\n",
    "Settings.llm = llm"
   ]
  },
  {
   "cell_type": "code",
   "execution_count": 24,
   "id": "741549fa-e2c9-40c1-bb92-ec4bb55763cf",
   "metadata": {},
   "outputs": [
    {
     "data": {
      "application/vnd.jupyter.widget-view+json": {
       "model_id": "718c8d3518da4f2e9c11d08bb134a406",
       "version_major": 2,
       "version_minor": 0
      },
      "text/plain": [
       "Parsing nodes:   0%|          | 0/1037 [00:00<?, ?it/s]"
      ]
     },
     "metadata": {},
     "output_type": "display_data"
    },
    {
     "data": {
      "application/vnd.jupyter.widget-view+json": {
       "model_id": "379fd5748d584b5ab0880f471c896401",
       "version_major": 2,
       "version_minor": 0
      },
      "text/plain": [
       "Generating embeddings:   0%|          | 0/1158 [00:00<?, ?it/s]"
      ]
     },
     "metadata": {},
     "output_type": "display_data"
    }
   ],
   "source": [
    "index = VectorStoreIndex.from_documents(\n",
    "    documents=documents,\n",
    "    show_progress=True\n",
    ")\n",
    "query_engine = index.as_query_engine()"
   ]
  },
  {
   "cell_type": "code",
   "execution_count": 25,
   "id": "196bf672-66b4-4347-bb23-0a3fd1052cd0",
   "metadata": {},
   "outputs": [
    {
     "name": "stderr",
     "output_type": "stream",
     "text": [
      "100%|██████████████████████████████████████████████████████████████████████████████████████████████████████████████████████████████████████████████████████████████████████████████████████████████████████████████| 20/20 [05:10<00:00, 15.52s/it]\n",
      "100%|██████████████████████████████████████████████████████████████████████████████████████████████████████████████████████████████████████████████████████████████████████████████████████████████████████████████| 20/20 [06:13<00:00, 18.69s/it]\n",
      "100%|██████████████████████████████████████████████████████████████████████████████████████████████████████████████████████████████████████████████████████████████████████████████████████████████████████████████| 20/20 [06:06<00:00, 18.34s/it]\n",
      "100%|██████████████████████████████████████████████████████████████████████████████████████████████████████████████████████████████████████████████████████████████████████████████████████████████████████████████| 20/20 [06:01<00:00, 18.05s/it]\n",
      "100%|██████████████████████████████████████████████████████████████████████████████████████████████████████████████████████████████████████████████████████████████████████████████████████████████████████████████| 20/20 [06:07<00:00, 18.37s/it]\n",
      "100%|██████████████████████████████████████████████████████████████████████████████████████████████████████████████████████████████████████████████████████████████████████████████████████████████████████████████| 20/20 [05:15<00:00, 15.80s/it]\n",
      "100%|██████████████████████████████████████████████████████████████████████████████████████████████████████████████████████████████████████████████████████████████████████████████████████████████████████████████| 20/20 [05:54<00:00, 17.75s/it]\n",
      "100%|██████████████████████████████████████████████████████████████████████████████████████████████████████████████████████████████████████████████████████████████████████████████████████████████████████████████| 20/20 [06:20<00:00, 19.04s/it]\n",
      "100%|██████████████████████████████████████████████████████████████████████████████████████████████████████████████████████████████████████████████████████████████████████████████████████████████████████████████| 20/20 [06:24<00:00, 19.25s/it]\n",
      "100%|██████████████████████████████████████████████████████████████████████████████████████████████████████████████████████████████████████████████████████████████████████████████████████████████████████████████| 15/15 [05:03<00:00, 20.20s/it]\n"
     ]
    }
   ],
   "source": [
    "predictions = rag_dataset.make_predictions_with(\n",
    "    predictor = query_engine,\n",
    "    show_progress = True,\n",
    "    batch_size = 20\n",
    ")"
   ]
  },
  {
   "cell_type": "code",
   "execution_count": 41,
   "id": "102b93a9-5bd5-4d1e-93c0-5a5bdf3b2988",
   "metadata": {
    "scrolled": true
   },
   "outputs": [
    {
     "data": {
      "text/html": [
       "<div>\n",
       "<style scoped>\n",
       "    .dataframe tbody tr th:only-of-type {\n",
       "        vertical-align: middle;\n",
       "    }\n",
       "\n",
       "    .dataframe tbody tr th {\n",
       "        vertical-align: top;\n",
       "    }\n",
       "\n",
       "    .dataframe thead th {\n",
       "        text-align: right;\n",
       "    }\n",
       "</style>\n",
       "<table border=\"1\" class=\"dataframe\">\n",
       "  <thead>\n",
       "    <tr style=\"text-align: right;\">\n",
       "      <th></th>\n",
       "      <th>user_input</th>\n",
       "      <th>retrieved_contexts</th>\n",
       "      <th>response</th>\n",
       "      <th>reference</th>\n",
       "    </tr>\n",
       "  </thead>\n",
       "  <tbody>\n",
       "    <tr>\n",
       "      <th>0</th>\n",
       "      <td>How has Apple's total net sales changed over t...</td>\n",
       "      <td>[Products and Services Performance\\nThe follow...</td>\n",
       "      <td>Apple's total net sales experienced a decrease...</td>\n",
       "      <td>Based on the provided documents, Apple's total...</td>\n",
       "    </tr>\n",
       "    <tr>\n",
       "      <th>1</th>\n",
       "      <td>What are the major factors contributing to the...</td>\n",
       "      <td>[Gross Margin\\nProducts and Services gross mar...</td>\n",
       "      <td>The major factors contributing to the change i...</td>\n",
       "      <td>In the most recent 10-Q for the quarter ended ...</td>\n",
       "    </tr>\n",
       "    <tr>\n",
       "      <th>2</th>\n",
       "      <td>Has there been any significant change in Apple...</td>\n",
       "      <td>[Operating Expenses\\nOperating expenses for th...</td>\n",
       "      <td>Yes, there has been a significant change in Ap...</td>\n",
       "      <td>Yes, there has been a change in Apple's operat...</td>\n",
       "    </tr>\n",
       "    <tr>\n",
       "      <th>3</th>\n",
       "      <td>How has Apple's revenue from iPhone sales fluc...</td>\n",
       "      <td>[Products and Services Performance\\nThe follow...</td>\n",
       "      <td>Apple's iPhone sales revenue showed a slight i...</td>\n",
       "      <td>The revenue from iPhone sales for Apple has fl...</td>\n",
       "    </tr>\n",
       "    <tr>\n",
       "      <th>4</th>\n",
       "      <td>Can any trends be identified in Apple's Servic...</td>\n",
       "      <td>[Note 2 – Revenue\\nNet sales disaggregated by ...</td>\n",
       "      <td>Yes, a trend can be identified in Apple's Serv...</td>\n",
       "      <td>Based on the provided documents, there is a tr...</td>\n",
       "    </tr>\n",
       "    <tr>\n",
       "      <th>...</th>\n",
       "      <td>...</td>\n",
       "      <td>...</td>\n",
       "      <td>...</td>\n",
       "      <td>...</td>\n",
       "    </tr>\n",
       "    <tr>\n",
       "      <th>190</th>\n",
       "      <td>For Amazon's Q1 2023 10-Q, align the details o...</td>\n",
       "      <td>[Table of Contents\\npayments of short-term deb...</td>\n",
       "      <td>In Amazon's Q1 2023 10-Q, the financial statem...</td>\n",
       "      <td>In Amazon's Q1 2023 10-Q, the details of debt ...</td>\n",
       "    </tr>\n",
       "    <tr>\n",
       "      <th>191</th>\n",
       "      <td>Analyze how Amazon's effective tax rate report...</td>\n",
       "      <td>[Table of Contents\\nNote 7 — INCOME TAXES\\nOur...</td>\n",
       "      <td>Amazon's effective tax rate for the most recen...</td>\n",
       "      <td>The effective tax rate for Amazon as reported ...</td>\n",
       "    </tr>\n",
       "    <tr>\n",
       "      <th>192</th>\n",
       "      <td>From Amazon's Q3 2023 10-Q, how does the opera...</td>\n",
       "      <td>[Table of Contents\\nOperating Expenses\\nInform...</td>\n",
       "      <td>The operational expenses section provides deta...</td>\n",
       "      <td>The operational expenses section in Amazon's Q...</td>\n",
       "    </tr>\n",
       "    <tr>\n",
       "      <th>193</th>\n",
       "      <td>In the latest 10-Q, how does the revenue from ...</td>\n",
       "      <td>[See Item 7 of Part II, “Management’s Discussi...</td>\n",
       "      <td>The provided context does not include specific...</td>\n",
       "      <td>The latest 10-Q does not provide specific info...</td>\n",
       "    </tr>\n",
       "    <tr>\n",
       "      <th>194</th>\n",
       "      <td>For Amazon's Q1 2023, how does the share repur...</td>\n",
       "      <td>[Table of Contents\\nAMAZON.COM, INC.\\nNOTES TO...</td>\n",
       "      <td>The provided context does not include specific...</td>\n",
       "      <td>For Q1 2023, the financial statements indicate...</td>\n",
       "    </tr>\n",
       "  </tbody>\n",
       "</table>\n",
       "<p>195 rows × 4 columns</p>\n",
       "</div>"
      ],
      "text/plain": [
       "                                            user_input  \\\n",
       "0    How has Apple's total net sales changed over t...   \n",
       "1    What are the major factors contributing to the...   \n",
       "2    Has there been any significant change in Apple...   \n",
       "3    How has Apple's revenue from iPhone sales fluc...   \n",
       "4    Can any trends be identified in Apple's Servic...   \n",
       "..                                                 ...   \n",
       "190  For Amazon's Q1 2023 10-Q, align the details o...   \n",
       "191  Analyze how Amazon's effective tax rate report...   \n",
       "192  From Amazon's Q3 2023 10-Q, how does the opera...   \n",
       "193  In the latest 10-Q, how does the revenue from ...   \n",
       "194  For Amazon's Q1 2023, how does the share repur...   \n",
       "\n",
       "                                    retrieved_contexts  \\\n",
       "0    [Products and Services Performance\\nThe follow...   \n",
       "1    [Gross Margin\\nProducts and Services gross mar...   \n",
       "2    [Operating Expenses\\nOperating expenses for th...   \n",
       "3    [Products and Services Performance\\nThe follow...   \n",
       "4    [Note 2 – Revenue\\nNet sales disaggregated by ...   \n",
       "..                                                 ...   \n",
       "190  [Table of Contents\\npayments of short-term deb...   \n",
       "191  [Table of Contents\\nNote 7 — INCOME TAXES\\nOur...   \n",
       "192  [Table of Contents\\nOperating Expenses\\nInform...   \n",
       "193  [See Item 7 of Part II, “Management’s Discussi...   \n",
       "194  [Table of Contents\\nAMAZON.COM, INC.\\nNOTES TO...   \n",
       "\n",
       "                                              response  \\\n",
       "0    Apple's total net sales experienced a decrease...   \n",
       "1    The major factors contributing to the change i...   \n",
       "2    Yes, there has been a significant change in Ap...   \n",
       "3    Apple's iPhone sales revenue showed a slight i...   \n",
       "4    Yes, a trend can be identified in Apple's Serv...   \n",
       "..                                                 ...   \n",
       "190  In Amazon's Q1 2023 10-Q, the financial statem...   \n",
       "191  Amazon's effective tax rate for the most recen...   \n",
       "192  The operational expenses section provides deta...   \n",
       "193  The provided context does not include specific...   \n",
       "194  The provided context does not include specific...   \n",
       "\n",
       "                                             reference  \n",
       "0    Based on the provided documents, Apple's total...  \n",
       "1    In the most recent 10-Q for the quarter ended ...  \n",
       "2    Yes, there has been a change in Apple's operat...  \n",
       "3    The revenue from iPhone sales for Apple has fl...  \n",
       "4    Based on the provided documents, there is a tr...  \n",
       "..                                                 ...  \n",
       "190  In Amazon's Q1 2023 10-Q, the details of debt ...  \n",
       "191  The effective tax rate for Amazon as reported ...  \n",
       "192  The operational expenses section in Amazon's Q...  \n",
       "193  The latest 10-Q does not provide specific info...  \n",
       "194  For Q1 2023, the financial statements indicate...  \n",
       "\n",
       "[195 rows x 4 columns]"
      ]
     },
     "execution_count": 41,
     "metadata": {},
     "output_type": "execute_result"
    }
   ],
   "source": [
    "list_of_samples = []\n",
    "\n",
    "for idx in range(len(rag_dataset.examples)):\n",
    "    list_of_samples.append(\n",
    "        SingleTurnSample (\n",
    "            user_input = rag_dataset.examples[idx].query,\n",
    "            reference = rag_dataset.examples[idx].reference_answer,\n",
    "            response = predictions.predictions[idx].response,\n",
    "            retrieved_contexts = predictions.predictions[idx].contexts\n",
    "        )\n",
    "    )\n",
    "\n",
    "ragas_evaluation_dataset = EvaluationDataset(list_of_samples)\n",
    "ragas_evaluation_dataset.to_pandas().sample(5)"
   ]
  },
  {
   "cell_type": "code",
   "execution_count": 29,
   "id": "911a12f9-7506-46f6-8dd6-49705b7ee1e0",
   "metadata": {},
   "outputs": [],
   "source": [
    "evaluator_llm = LlamaIndexLLMWrapper(llm)\n",
    "evaluator_embeddings = LlamaIndexEmbeddingsWrapper(embed_model)"
   ]
  },
  {
   "cell_type": "code",
   "execution_count": 42,
   "id": "330613cb-e9b4-4131-a86e-6b8965f0793c",
   "metadata": {},
   "outputs": [
    {
     "data": {
      "application/vnd.jupyter.widget-view+json": {
       "model_id": "6b7da36bed3b42df82ae1871b209ba10",
       "version_major": 2,
       "version_minor": 0
      },
      "text/plain": [
       "Evaluating:   0%|          | 0/585 [00:00<?, ?it/s]"
      ]
     },
     "metadata": {},
     "output_type": "display_data"
    },
    {
     "data": {
      "application/vnd.jupyter.widget-view+json": {
       "model_id": "6d887557a39243e3a2328c381fbb6220",
       "version_major": 2,
       "version_minor": 0
      },
      "text/plain": [
       "Batch 1/30:   0%|          | 0/20 [00:00<?, ?it/s]"
      ]
     },
     "metadata": {},
     "output_type": "display_data"
    }
   ],
   "source": [
    "metrics = [\n",
    "    Faithfulness(llm=evaluator_llm),\n",
    "    ContextPrecision(llm=evaluator_llm),\n",
    "    ContextRecall(llm=evaluator_llm)\n",
    "]\n",
    "ragas_evaluation_result = evaluate(\n",
    "    dataset=ragas_evaluation_dataset,\n",
    "    metrics=metrics,\n",
    "    llm=evaluator_llm,\n",
    "    embeddings=evaluator_embeddings,\n",
    "    run_config=RunConfig(timeout=1800, max_wait=180, max_retries=20),\n",
    "    show_progress=True,\n",
    "    batch_size=20\n",
    ")"
   ]
  },
  {
   "cell_type": "code",
   "execution_count": 45,
   "id": "44b38499-b1b2-4dd8-8146-8ad476e2ea26",
   "metadata": {},
   "outputs": [
    {
     "data": {
      "text/html": [
       "<div>\n",
       "<style scoped>\n",
       "    .dataframe tbody tr th:only-of-type {\n",
       "        vertical-align: middle;\n",
       "    }\n",
       "\n",
       "    .dataframe tbody tr th {\n",
       "        vertical-align: top;\n",
       "    }\n",
       "\n",
       "    .dataframe thead th {\n",
       "        text-align: right;\n",
       "    }\n",
       "</style>\n",
       "<table border=\"1\" class=\"dataframe\">\n",
       "  <thead>\n",
       "    <tr style=\"text-align: right;\">\n",
       "      <th></th>\n",
       "      <th>user_input</th>\n",
       "      <th>retrieved_contexts</th>\n",
       "      <th>response</th>\n",
       "      <th>reference</th>\n",
       "      <th>faithfulness</th>\n",
       "      <th>context_precision</th>\n",
       "      <th>context_recall</th>\n",
       "    </tr>\n",
       "  </thead>\n",
       "  <tbody>\n",
       "    <tr>\n",
       "      <th>100</th>\n",
       "      <td>What were the main contributors to NVIDIA's ne...</td>\n",
       "      <td>[Second Quarter of Fiscal Year 2024 Summary\\nT...</td>\n",
       "      <td>In the second quarter of 2023, the main contri...</td>\n",
       "      <td>The main contributors to NVIDIA's net income i...</td>\n",
       "      <td>0.777778</td>\n",
       "      <td>1.0</td>\n",
       "      <td>0.285714</td>\n",
       "    </tr>\n",
       "    <tr>\n",
       "      <th>119</th>\n",
       "      <td>What were the cash flow from operations figure...</td>\n",
       "      <td>[Table of Contents\\nA Quarter in Review\\nTotal...</td>\n",
       "      <td>The cash flow from operations for Intel as per...</td>\n",
       "      <td>The cash flow from operations figure for Intel...</td>\n",
       "      <td>1.000000</td>\n",
       "      <td>0.5</td>\n",
       "      <td>0.500000</td>\n",
       "    </tr>\n",
       "    <tr>\n",
       "      <th>16</th>\n",
       "      <td>Outline the risk elements associated with Micr...</td>\n",
       "      <td>[PART IIItem 1A\\n \\nBesides software developme...</td>\n",
       "      <td>The risk elements associated with Microsoft's ...</td>\n",
       "      <td>The risk elements associated with Microsoft's ...</td>\n",
       "      <td>1.000000</td>\n",
       "      <td>0.0</td>\n",
       "      <td>0.000000</td>\n",
       "    </tr>\n",
       "    <tr>\n",
       "      <th>78</th>\n",
       "      <td>What changes in debt structure or interest exp...</td>\n",
       "      <td>[Note 5 – Income Taxes\\nEuropean Commission St...</td>\n",
       "      <td>The context does not provide specific details ...</td>\n",
       "      <td>Apple disclosed in its Q1 2023 10-Q that as of...</td>\n",
       "      <td>1.000000</td>\n",
       "      <td>0.0</td>\n",
       "      <td>0.000000</td>\n",
       "    </tr>\n",
       "    <tr>\n",
       "      <th>152</th>\n",
       "      <td>In Microsoft's Q1 2023 10-Q, what relationship...</td>\n",
       "      <td>[PART IItem 2\\n \\n \\nOperating income increase...</td>\n",
       "      <td>In Microsoft's Q1 2023 10-Q, the research and ...</td>\n",
       "      <td>In the provided context of Microsoft's Q1 2023...</td>\n",
       "      <td>0.833333</td>\n",
       "      <td>0.0</td>\n",
       "      <td>1.000000</td>\n",
       "    </tr>\n",
       "  </tbody>\n",
       "</table>\n",
       "</div>"
      ],
      "text/plain": [
       "                                            user_input  \\\n",
       "100  What were the main contributors to NVIDIA's ne...   \n",
       "119  What were the cash flow from operations figure...   \n",
       "16   Outline the risk elements associated with Micr...   \n",
       "78   What changes in debt structure or interest exp...   \n",
       "152  In Microsoft's Q1 2023 10-Q, what relationship...   \n",
       "\n",
       "                                    retrieved_contexts  \\\n",
       "100  [Second Quarter of Fiscal Year 2024 Summary\\nT...   \n",
       "119  [Table of Contents\\nA Quarter in Review\\nTotal...   \n",
       "16   [PART IIItem 1A\\n \\nBesides software developme...   \n",
       "78   [Note 5 – Income Taxes\\nEuropean Commission St...   \n",
       "152  [PART IItem 2\\n \\n \\nOperating income increase...   \n",
       "\n",
       "                                              response  \\\n",
       "100  In the second quarter of 2023, the main contri...   \n",
       "119  The cash flow from operations for Intel as per...   \n",
       "16   The risk elements associated with Microsoft's ...   \n",
       "78   The context does not provide specific details ...   \n",
       "152  In Microsoft's Q1 2023 10-Q, the research and ...   \n",
       "\n",
       "                                             reference  faithfulness  \\\n",
       "100  The main contributors to NVIDIA's net income i...      0.777778   \n",
       "119  The cash flow from operations figure for Intel...      1.000000   \n",
       "16   The risk elements associated with Microsoft's ...      1.000000   \n",
       "78   Apple disclosed in its Q1 2023 10-Q that as of...      1.000000   \n",
       "152  In the provided context of Microsoft's Q1 2023...      0.833333   \n",
       "\n",
       "     context_precision  context_recall  \n",
       "100                1.0        0.285714  \n",
       "119                0.5        0.500000  \n",
       "16                 0.0        0.000000  \n",
       "78                 0.0        0.000000  \n",
       "152                0.0        1.000000  "
      ]
     },
     "execution_count": 45,
     "metadata": {},
     "output_type": "execute_result"
    }
   ],
   "source": [
    "ragas_evaluation_result.to_pandas().sample(5)"
   ]
  },
  {
   "cell_type": "code",
   "execution_count": 46,
   "id": "7322cd09-651a-4795-975a-f9278fa2d8de",
   "metadata": {},
   "outputs": [],
   "source": [
    "ragas_evaluation_result.to_pandas().to_json('./test-dataset.json', orient='records', indent=4)"
   ]
  },
  {
   "cell_type": "code",
   "execution_count": null,
   "id": "c4cfa1d5-1b7e-419f-9a57-6eba2776ca27",
   "metadata": {},
   "outputs": [],
   "source": []
  }
 ],
 "metadata": {
  "kernelspec": {
   "display_name": "Python 3 (ipykernel)",
   "language": "python",
   "name": "python3"
  },
  "language_info": {
   "codemirror_mode": {
    "name": "ipython",
    "version": 3
   },
   "file_extension": ".py",
   "mimetype": "text/x-python",
   "name": "python",
   "nbconvert_exporter": "python",
   "pygments_lexer": "ipython3",
   "version": "3.9.13"
  }
 },
 "nbformat": 4,
 "nbformat_minor": 5
}
