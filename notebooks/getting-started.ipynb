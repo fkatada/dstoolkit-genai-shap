{
 "cells": [
  {
   "cell_type": "code",
   "execution_count": 1,
   "id": "e76ef743-a835-4e13-b2a1-18c76d6354da",
   "metadata": {},
   "outputs": [],
   "source": [
    "from llama_index.core.llama_dataset import download_llama_dataset\n",
    "from llama_index.core.llama_pack import download_llama_pack\n",
    "from llama_index.core import VectorStoreIndex, Settings\n",
    "from llama_index.embeddings.huggingface import HuggingFaceEmbedding\n",
    "from llama_index.llms.ollama import Ollama\n",
    "import yaml\n",
    "from pydantic import BaseModel"
   ]
  },
  {
   "cell_type": "code",
   "execution_count": 2,
   "id": "b849c91b-c8a1-45d6-a330-ba460323798b",
   "metadata": {},
   "outputs": [],
   "source": [
    "with open('config.yml') as config_file:\n",
    "    config_data = yaml.safe_load(config_file)\n",
    "\n",
    "class DatasetConfig(BaseModel):\n",
    "    dataset_class: str\n",
    "    download_dir: str\n",
    "    \n",
    "dataset_config = DatasetConfig(**config_data['dataset'])\n",
    "\n",
    "class LocalModelConfig(BaseModel):\n",
    "    embedding_model_name: str\n",
    "    llm_model_name: str\n",
    "\n",
    "local_model_config = LocalModelConfig(**config_data['local_model'])"
   ]
  },
  {
   "cell_type": "code",
   "execution_count": 3,
   "id": "1d09abc3-fb04-4073-b1b4-e62c477572ac",
   "metadata": {},
   "outputs": [],
   "source": [
    "Settings.embed_model = HuggingFaceEmbedding(model_name=local_model_config.embedding_model_name)\n",
    "Settings.llm = Ollama(model=local_model_config.llm_model_name, request_timeout=360.0)"
   ]
  },
  {
   "cell_type": "code",
   "execution_count": 4,
   "id": "fdd9d286-1a99-4657-bb19-80127bfd50eb",
   "metadata": {},
   "outputs": [
    {
     "name": "stderr",
     "output_type": "stream",
     "text": [
      "100%|██████████████████████████████████████████████████████████████████████████████████████████████████████████████████████████████████████████████████████████████████████████████████████████████████████████████| 20/20 [00:14<00:00,  1.36it/s]\n",
      "Loading files: 100%|█████████████████████████████████████████████████████████████████████████████████████████████████████████████████████████████████████████████████████████████████████████████████████████████| 20/20 [00:50<00:00,  2.53s/file]\n"
     ]
    }
   ],
   "source": [
    "rag_dataset, documents = download_llama_dataset(\n",
    "    llama_dataset_class=dataset_config.dataset_class, \n",
    "    download_dir=dataset_config.download_dir,\n",
    "    show_progress=True\n",
    ")"
   ]
  },
  {
   "cell_type": "code",
   "execution_count": 5,
   "id": "bc4126e2-78cd-4401-8750-f03c2e4be693",
   "metadata": {},
   "outputs": [
    {
     "data": {
      "application/vnd.jupyter.widget-view+json": {
       "model_id": "c6d75b3913774d73b90fee6798cd4da0",
       "version_major": 2,
       "version_minor": 0
      },
      "text/plain": [
       "Parsing nodes:   0%|          | 0/1037 [00:00<?, ?it/s]"
      ]
     },
     "metadata": {},
     "output_type": "display_data"
    },
    {
     "data": {
      "application/vnd.jupyter.widget-view+json": {
       "model_id": "cce9b425c7784911811b728e5e42cc19",
       "version_major": 2,
       "version_minor": 0
      },
      "text/plain": [
       "Generating embeddings:   0%|          | 0/1159 [00:00<?, ?it/s]"
      ]
     },
     "metadata": {},
     "output_type": "display_data"
    }
   ],
   "source": [
    "index = VectorStoreIndex.from_documents(\n",
    "    documents=documents,\n",
    "    show_progress=True\n",
    ")"
   ]
  },
  {
   "cell_type": "code",
   "execution_count": 6,
   "id": "0b787ccf-1ae3-46b0-b158-157102723610",
   "metadata": {},
   "outputs": [],
   "source": [
    "query_engine = index.as_query_engine()"
   ]
  },
  {
   "cell_type": "code",
   "execution_count": 7,
   "id": "aae2b314-b621-4a79-99de-7f8ad43cc520",
   "metadata": {},
   "outputs": [
    {
     "name": "stderr",
     "output_type": "stream",
     "text": [
      "huggingface/tokenizers: The current process just got forked, after parallelism has already been used. Disabling parallelism to avoid deadlocks...\n",
      "To disable this warning, you can either:\n",
      "\t- Avoid using `tokenizers` before the fork if possible\n",
      "\t- Explicitly set the environment variable TOKENIZERS_PARALLELISM=(true | false)\n"
     ]
    },
    {
     "name": "stdout",
     "output_type": "stream",
     "text": [
      "Processing /Users/gpabon/src/repos/dstoolkit-genai-shap/notebooks/rag_evaluator_pack\n",
      "  Installing build dependencies: started\n",
      "  Installing build dependencies: finished with status 'done'\n",
      "  Getting requirements to build wheel: started\n",
      "  Getting requirements to build wheel: finished with status 'done'\n",
      "  Preparing metadata (pyproject.toml): started\n",
      "  Preparing metadata (pyproject.toml): finished with status 'done'\n",
      "Requirement already satisfied: pandas in /Users/gpabon/src/repos/dstoolkit-genai-shap/.venv/lib/python3.9/site-packages (from llama-index-packs-rag-evaluator==0.3.0) (2.2.3)\n",
      "Requirement already satisfied: llama-index-embeddings-openai<0.4.0,>=0.3.0 in /Users/gpabon/src/repos/dstoolkit-genai-shap/.venv/lib/python3.9/site-packages (from llama-index-packs-rag-evaluator==0.3.0) (0.3.1)\n",
      "Requirement already satisfied: llama-index-llms-openai<0.4.0,>=0.3.0 in /Users/gpabon/src/repos/dstoolkit-genai-shap/.venv/lib/python3.9/site-packages (from llama-index-packs-rag-evaluator==0.3.0) (0.3.9)\n",
      "Requirement already satisfied: openai>=1.1.0 in /Users/gpabon/src/repos/dstoolkit-genai-shap/.venv/lib/python3.9/site-packages (from llama-index-embeddings-openai<0.4.0,>=0.3.0->llama-index-packs-rag-evaluator==0.3.0) (1.57.2)\n",
      "Requirement already satisfied: llama-index-core<0.13.0,>=0.12.0 in /Users/gpabon/src/repos/dstoolkit-genai-shap/.venv/lib/python3.9/site-packages (from llama-index-embeddings-openai<0.4.0,>=0.3.0->llama-index-packs-rag-evaluator==0.3.0) (0.12.5)\n",
      "Requirement already satisfied: tzdata>=2022.7 in /Users/gpabon/src/repos/dstoolkit-genai-shap/.venv/lib/python3.9/site-packages (from pandas->llama-index-packs-rag-evaluator==0.3.0) (2024.2)\n",
      "Requirement already satisfied: python-dateutil>=2.8.2 in /Users/gpabon/src/repos/dstoolkit-genai-shap/.venv/lib/python3.9/site-packages (from pandas->llama-index-packs-rag-evaluator==0.3.0) (2.9.0.post0)\n",
      "Requirement already satisfied: numpy>=1.22.4 in /Users/gpabon/src/repos/dstoolkit-genai-shap/.venv/lib/python3.9/site-packages (from pandas->llama-index-packs-rag-evaluator==0.3.0) (2.0.2)\n",
      "Requirement already satisfied: pytz>=2020.1 in /Users/gpabon/src/repos/dstoolkit-genai-shap/.venv/lib/python3.9/site-packages (from pandas->llama-index-packs-rag-evaluator==0.3.0) (2024.2)\n",
      "Requirement already satisfied: deprecated>=1.2.9.3 in /Users/gpabon/src/repos/dstoolkit-genai-shap/.venv/lib/python3.9/site-packages (from llama-index-core<0.13.0,>=0.12.0->llama-index-embeddings-openai<0.4.0,>=0.3.0->llama-index-packs-rag-evaluator==0.3.0) (1.2.15)\n",
      "Requirement already satisfied: tqdm<5.0.0,>=4.66.1 in /Users/gpabon/src/repos/dstoolkit-genai-shap/.venv/lib/python3.9/site-packages (from llama-index-core<0.13.0,>=0.12.0->llama-index-embeddings-openai<0.4.0,>=0.3.0->llama-index-packs-rag-evaluator==0.3.0) (4.67.1)\n",
      "Requirement already satisfied: httpx in /Users/gpabon/src/repos/dstoolkit-genai-shap/.venv/lib/python3.9/site-packages (from llama-index-core<0.13.0,>=0.12.0->llama-index-embeddings-openai<0.4.0,>=0.3.0->llama-index-packs-rag-evaluator==0.3.0) (0.27.2)\n",
      "Requirement already satisfied: nest-asyncio<2.0.0,>=1.5.8 in /Users/gpabon/src/repos/dstoolkit-genai-shap/.venv/lib/python3.9/site-packages (from llama-index-core<0.13.0,>=0.12.0->llama-index-embeddings-openai<0.4.0,>=0.3.0->llama-index-packs-rag-evaluator==0.3.0) (1.6.0)\n",
      "Requirement already satisfied: aiohttp<4.0.0,>=3.8.6 in /Users/gpabon/src/repos/dstoolkit-genai-shap/.venv/lib/python3.9/site-packages (from llama-index-core<0.13.0,>=0.12.0->llama-index-embeddings-openai<0.4.0,>=0.3.0->llama-index-packs-rag-evaluator==0.3.0) (3.11.10)\n",
      "Requirement already satisfied: tiktoken>=0.3.3 in /Users/gpabon/src/repos/dstoolkit-genai-shap/.venv/lib/python3.9/site-packages (from llama-index-core<0.13.0,>=0.12.0->llama-index-embeddings-openai<0.4.0,>=0.3.0->llama-index-packs-rag-evaluator==0.3.0) (0.8.0)\n",
      "Requirement already satisfied: eval-type-backport<0.3.0,>=0.2.0 in /Users/gpabon/src/repos/dstoolkit-genai-shap/.venv/lib/python3.9/site-packages (from llama-index-core<0.13.0,>=0.12.0->llama-index-embeddings-openai<0.4.0,>=0.3.0->llama-index-packs-rag-evaluator==0.3.0) (0.2.0)\n",
      "Requirement already satisfied: requests>=2.31.0 in /Users/gpabon/src/repos/dstoolkit-genai-shap/.venv/lib/python3.9/site-packages (from llama-index-core<0.13.0,>=0.12.0->llama-index-embeddings-openai<0.4.0,>=0.3.0->llama-index-packs-rag-evaluator==0.3.0) (2.32.3)\n",
      "Requirement already satisfied: nltk>3.8.1 in /Users/gpabon/src/repos/dstoolkit-genai-shap/.venv/lib/python3.9/site-packages (from llama-index-core<0.13.0,>=0.12.0->llama-index-embeddings-openai<0.4.0,>=0.3.0->llama-index-packs-rag-evaluator==0.3.0) (3.9.1)\n",
      "Requirement already satisfied: SQLAlchemy[asyncio]>=1.4.49 in /Users/gpabon/src/repos/dstoolkit-genai-shap/.venv/lib/python3.9/site-packages (from llama-index-core<0.13.0,>=0.12.0->llama-index-embeddings-openai<0.4.0,>=0.3.0->llama-index-packs-rag-evaluator==0.3.0) (2.0.36)\n",
      "Requirement already satisfied: typing-inspect>=0.8.0 in /Users/gpabon/src/repos/dstoolkit-genai-shap/.venv/lib/python3.9/site-packages (from llama-index-core<0.13.0,>=0.12.0->llama-index-embeddings-openai<0.4.0,>=0.3.0->llama-index-packs-rag-evaluator==0.3.0) (0.9.0)\n",
      "Requirement already satisfied: pydantic>=2.8.0 in /Users/gpabon/src/repos/dstoolkit-genai-shap/.venv/lib/python3.9/site-packages (from llama-index-core<0.13.0,>=0.12.0->llama-index-embeddings-openai<0.4.0,>=0.3.0->llama-index-packs-rag-evaluator==0.3.0) (2.10.3)\n",
      "Requirement already satisfied: pillow>=9.0.0 in /Users/gpabon/src/repos/dstoolkit-genai-shap/.venv/lib/python3.9/site-packages (from llama-index-core<0.13.0,>=0.12.0->llama-index-embeddings-openai<0.4.0,>=0.3.0->llama-index-packs-rag-evaluator==0.3.0) (11.0.0)\n",
      "Requirement already satisfied: tenacity!=8.4.0,<10.0.0,>=8.2.0 in /Users/gpabon/src/repos/dstoolkit-genai-shap/.venv/lib/python3.9/site-packages (from llama-index-core<0.13.0,>=0.12.0->llama-index-embeddings-openai<0.4.0,>=0.3.0->llama-index-packs-rag-evaluator==0.3.0) (8.5.0)\n",
      "Requirement already satisfied: typing-extensions>=4.5.0 in /Users/gpabon/src/repos/dstoolkit-genai-shap/.venv/lib/python3.9/site-packages (from llama-index-core<0.13.0,>=0.12.0->llama-index-embeddings-openai<0.4.0,>=0.3.0->llama-index-packs-rag-evaluator==0.3.0) (4.12.2)\n",
      "Requirement already satisfied: PyYAML>=6.0.1 in /Users/gpabon/src/repos/dstoolkit-genai-shap/.venv/lib/python3.9/site-packages (from llama-index-core<0.13.0,>=0.12.0->llama-index-embeddings-openai<0.4.0,>=0.3.0->llama-index-packs-rag-evaluator==0.3.0) (6.0.2)\n",
      "Requirement already satisfied: filetype<2.0.0,>=1.2.0 in /Users/gpabon/src/repos/dstoolkit-genai-shap/.venv/lib/python3.9/site-packages (from llama-index-core<0.13.0,>=0.12.0->llama-index-embeddings-openai<0.4.0,>=0.3.0->llama-index-packs-rag-evaluator==0.3.0) (1.2.0)\n",
      "Requirement already satisfied: dirtyjson<2.0.0,>=1.0.8 in /Users/gpabon/src/repos/dstoolkit-genai-shap/.venv/lib/python3.9/site-packages (from llama-index-core<0.13.0,>=0.12.0->llama-index-embeddings-openai<0.4.0,>=0.3.0->llama-index-packs-rag-evaluator==0.3.0) (1.0.8)\n",
      "Requirement already satisfied: networkx>=3.0 in /Users/gpabon/src/repos/dstoolkit-genai-shap/.venv/lib/python3.9/site-packages (from llama-index-core<0.13.0,>=0.12.0->llama-index-embeddings-openai<0.4.0,>=0.3.0->llama-index-packs-rag-evaluator==0.3.0) (3.2.1)\n",
      "Requirement already satisfied: fsspec>=2023.5.0 in /Users/gpabon/src/repos/dstoolkit-genai-shap/.venv/lib/python3.9/site-packages (from llama-index-core<0.13.0,>=0.12.0->llama-index-embeddings-openai<0.4.0,>=0.3.0->llama-index-packs-rag-evaluator==0.3.0) (2024.10.0)\n",
      "Requirement already satisfied: dataclasses-json in /Users/gpabon/src/repos/dstoolkit-genai-shap/.venv/lib/python3.9/site-packages (from llama-index-core<0.13.0,>=0.12.0->llama-index-embeddings-openai<0.4.0,>=0.3.0->llama-index-packs-rag-evaluator==0.3.0) (0.6.7)\n",
      "Requirement already satisfied: wrapt in /Users/gpabon/src/repos/dstoolkit-genai-shap/.venv/lib/python3.9/site-packages (from llama-index-core<0.13.0,>=0.12.0->llama-index-embeddings-openai<0.4.0,>=0.3.0->llama-index-packs-rag-evaluator==0.3.0) (1.17.0)\n",
      "Requirement already satisfied: jiter<1,>=0.4.0 in /Users/gpabon/src/repos/dstoolkit-genai-shap/.venv/lib/python3.9/site-packages (from openai>=1.1.0->llama-index-embeddings-openai<0.4.0,>=0.3.0->llama-index-packs-rag-evaluator==0.3.0) (0.8.2)\n",
      "Requirement already satisfied: sniffio in /Users/gpabon/src/repos/dstoolkit-genai-shap/.venv/lib/python3.9/site-packages (from openai>=1.1.0->llama-index-embeddings-openai<0.4.0,>=0.3.0->llama-index-packs-rag-evaluator==0.3.0) (1.3.1)\n",
      "Requirement already satisfied: anyio<5,>=3.5.0 in /Users/gpabon/src/repos/dstoolkit-genai-shap/.venv/lib/python3.9/site-packages (from openai>=1.1.0->llama-index-embeddings-openai<0.4.0,>=0.3.0->llama-index-packs-rag-evaluator==0.3.0) (4.7.0)\n",
      "Requirement already satisfied: distro<2,>=1.7.0 in /Users/gpabon/src/repos/dstoolkit-genai-shap/.venv/lib/python3.9/site-packages (from openai>=1.1.0->llama-index-embeddings-openai<0.4.0,>=0.3.0->llama-index-packs-rag-evaluator==0.3.0) (1.9.0)\n",
      "Requirement already satisfied: six>=1.5 in /Users/gpabon/src/repos/dstoolkit-genai-shap/.venv/lib/python3.9/site-packages (from python-dateutil>=2.8.2->pandas->llama-index-packs-rag-evaluator==0.3.0) (1.17.0)\n",
      "Requirement already satisfied: aiosignal>=1.1.2 in /Users/gpabon/src/repos/dstoolkit-genai-shap/.venv/lib/python3.9/site-packages (from aiohttp<4.0.0,>=3.8.6->llama-index-core<0.13.0,>=0.12.0->llama-index-embeddings-openai<0.4.0,>=0.3.0->llama-index-packs-rag-evaluator==0.3.0) (1.3.1)\n",
      "Requirement already satisfied: async-timeout<6.0,>=4.0 in /Users/gpabon/src/repos/dstoolkit-genai-shap/.venv/lib/python3.9/site-packages (from aiohttp<4.0.0,>=3.8.6->llama-index-core<0.13.0,>=0.12.0->llama-index-embeddings-openai<0.4.0,>=0.3.0->llama-index-packs-rag-evaluator==0.3.0) (5.0.1)\n",
      "Requirement already satisfied: attrs>=17.3.0 in /Users/gpabon/src/repos/dstoolkit-genai-shap/.venv/lib/python3.9/site-packages (from aiohttp<4.0.0,>=3.8.6->llama-index-core<0.13.0,>=0.12.0->llama-index-embeddings-openai<0.4.0,>=0.3.0->llama-index-packs-rag-evaluator==0.3.0) (24.2.0)\n",
      "Requirement already satisfied: multidict<7.0,>=4.5 in /Users/gpabon/src/repos/dstoolkit-genai-shap/.venv/lib/python3.9/site-packages (from aiohttp<4.0.0,>=3.8.6->llama-index-core<0.13.0,>=0.12.0->llama-index-embeddings-openai<0.4.0,>=0.3.0->llama-index-packs-rag-evaluator==0.3.0) (6.1.0)\n",
      "Requirement already satisfied: aiohappyeyeballs>=2.3.0 in /Users/gpabon/src/repos/dstoolkit-genai-shap/.venv/lib/python3.9/site-packages (from aiohttp<4.0.0,>=3.8.6->llama-index-core<0.13.0,>=0.12.0->llama-index-embeddings-openai<0.4.0,>=0.3.0->llama-index-packs-rag-evaluator==0.3.0) (2.4.4)\n",
      "Requirement already satisfied: yarl<2.0,>=1.17.0 in /Users/gpabon/src/repos/dstoolkit-genai-shap/.venv/lib/python3.9/site-packages (from aiohttp<4.0.0,>=3.8.6->llama-index-core<0.13.0,>=0.12.0->llama-index-embeddings-openai<0.4.0,>=0.3.0->llama-index-packs-rag-evaluator==0.3.0) (1.18.3)\n",
      "Requirement already satisfied: frozenlist>=1.1.1 in /Users/gpabon/src/repos/dstoolkit-genai-shap/.venv/lib/python3.9/site-packages (from aiohttp<4.0.0,>=3.8.6->llama-index-core<0.13.0,>=0.12.0->llama-index-embeddings-openai<0.4.0,>=0.3.0->llama-index-packs-rag-evaluator==0.3.0) (1.5.0)\n",
      "Requirement already satisfied: propcache>=0.2.0 in /Users/gpabon/src/repos/dstoolkit-genai-shap/.venv/lib/python3.9/site-packages (from aiohttp<4.0.0,>=3.8.6->llama-index-core<0.13.0,>=0.12.0->llama-index-embeddings-openai<0.4.0,>=0.3.0->llama-index-packs-rag-evaluator==0.3.0) (0.2.1)\n",
      "Requirement already satisfied: exceptiongroup>=1.0.2 in /Users/gpabon/src/repos/dstoolkit-genai-shap/.venv/lib/python3.9/site-packages (from anyio<5,>=3.5.0->openai>=1.1.0->llama-index-embeddings-openai<0.4.0,>=0.3.0->llama-index-packs-rag-evaluator==0.3.0) (1.2.2)\n",
      "Requirement already satisfied: idna>=2.8 in /Users/gpabon/src/repos/dstoolkit-genai-shap/.venv/lib/python3.9/site-packages (from anyio<5,>=3.5.0->openai>=1.1.0->llama-index-embeddings-openai<0.4.0,>=0.3.0->llama-index-packs-rag-evaluator==0.3.0) (3.10)\n",
      "Requirement already satisfied: certifi in /Users/gpabon/src/repos/dstoolkit-genai-shap/.venv/lib/python3.9/site-packages (from httpx->llama-index-core<0.13.0,>=0.12.0->llama-index-embeddings-openai<0.4.0,>=0.3.0->llama-index-packs-rag-evaluator==0.3.0) (2024.8.30)\n",
      "Requirement already satisfied: httpcore==1.* in /Users/gpabon/src/repos/dstoolkit-genai-shap/.venv/lib/python3.9/site-packages (from httpx->llama-index-core<0.13.0,>=0.12.0->llama-index-embeddings-openai<0.4.0,>=0.3.0->llama-index-packs-rag-evaluator==0.3.0) (1.0.7)\n",
      "Requirement already satisfied: h11<0.15,>=0.13 in /Users/gpabon/src/repos/dstoolkit-genai-shap/.venv/lib/python3.9/site-packages (from httpcore==1.*->httpx->llama-index-core<0.13.0,>=0.12.0->llama-index-embeddings-openai<0.4.0,>=0.3.0->llama-index-packs-rag-evaluator==0.3.0) (0.14.0)\n",
      "Requirement already satisfied: click in /Users/gpabon/src/repos/dstoolkit-genai-shap/.venv/lib/python3.9/site-packages (from nltk>3.8.1->llama-index-core<0.13.0,>=0.12.0->llama-index-embeddings-openai<0.4.0,>=0.3.0->llama-index-packs-rag-evaluator==0.3.0) (8.1.7)\n",
      "Requirement already satisfied: joblib in /Users/gpabon/src/repos/dstoolkit-genai-shap/.venv/lib/python3.9/site-packages (from nltk>3.8.1->llama-index-core<0.13.0,>=0.12.0->llama-index-embeddings-openai<0.4.0,>=0.3.0->llama-index-packs-rag-evaluator==0.3.0) (1.4.2)\n",
      "Requirement already satisfied: regex>=2021.8.3 in /Users/gpabon/src/repos/dstoolkit-genai-shap/.venv/lib/python3.9/site-packages (from nltk>3.8.1->llama-index-core<0.13.0,>=0.12.0->llama-index-embeddings-openai<0.4.0,>=0.3.0->llama-index-packs-rag-evaluator==0.3.0) (2024.11.6)\n",
      "Requirement already satisfied: pydantic-core==2.27.1 in /Users/gpabon/src/repos/dstoolkit-genai-shap/.venv/lib/python3.9/site-packages (from pydantic>=2.8.0->llama-index-core<0.13.0,>=0.12.0->llama-index-embeddings-openai<0.4.0,>=0.3.0->llama-index-packs-rag-evaluator==0.3.0) (2.27.1)\n",
      "Requirement already satisfied: annotated-types>=0.6.0 in /Users/gpabon/src/repos/dstoolkit-genai-shap/.venv/lib/python3.9/site-packages (from pydantic>=2.8.0->llama-index-core<0.13.0,>=0.12.0->llama-index-embeddings-openai<0.4.0,>=0.3.0->llama-index-packs-rag-evaluator==0.3.0) (0.7.0)\n",
      "Requirement already satisfied: urllib3<3,>=1.21.1 in /Users/gpabon/src/repos/dstoolkit-genai-shap/.venv/lib/python3.9/site-packages (from requests>=2.31.0->llama-index-core<0.13.0,>=0.12.0->llama-index-embeddings-openai<0.4.0,>=0.3.0->llama-index-packs-rag-evaluator==0.3.0) (2.2.3)\n",
      "Requirement already satisfied: charset-normalizer<4,>=2 in /Users/gpabon/src/repos/dstoolkit-genai-shap/.venv/lib/python3.9/site-packages (from requests>=2.31.0->llama-index-core<0.13.0,>=0.12.0->llama-index-embeddings-openai<0.4.0,>=0.3.0->llama-index-packs-rag-evaluator==0.3.0) (3.4.0)\n",
      "Requirement already satisfied: greenlet!=0.4.17 in /Users/gpabon/src/repos/dstoolkit-genai-shap/.venv/lib/python3.9/site-packages (from SQLAlchemy[asyncio]>=1.4.49->llama-index-core<0.13.0,>=0.12.0->llama-index-embeddings-openai<0.4.0,>=0.3.0->llama-index-packs-rag-evaluator==0.3.0) (3.1.1)\n",
      "Requirement already satisfied: mypy-extensions>=0.3.0 in /Users/gpabon/src/repos/dstoolkit-genai-shap/.venv/lib/python3.9/site-packages (from typing-inspect>=0.8.0->llama-index-core<0.13.0,>=0.12.0->llama-index-embeddings-openai<0.4.0,>=0.3.0->llama-index-packs-rag-evaluator==0.3.0) (1.0.0)\n",
      "Requirement already satisfied: marshmallow<4.0.0,>=3.18.0 in /Users/gpabon/src/repos/dstoolkit-genai-shap/.venv/lib/python3.9/site-packages (from dataclasses-json->llama-index-core<0.13.0,>=0.12.0->llama-index-embeddings-openai<0.4.0,>=0.3.0->llama-index-packs-rag-evaluator==0.3.0) (3.23.1)\n",
      "Requirement already satisfied: packaging>=17.0 in /Users/gpabon/src/repos/dstoolkit-genai-shap/.venv/lib/python3.9/site-packages (from marshmallow<4.0.0,>=3.18.0->dataclasses-json->llama-index-core<0.13.0,>=0.12.0->llama-index-embeddings-openai<0.4.0,>=0.3.0->llama-index-packs-rag-evaluator==0.3.0) (24.2)\n",
      "Building wheels for collected packages: llama-index-packs-rag-evaluator\n",
      "  Building wheel for llama-index-packs-rag-evaluator (pyproject.toml): started\n",
      "  Building wheel for llama-index-packs-rag-evaluator (pyproject.toml): finished with status 'done'\n",
      "  Created wheel for llama-index-packs-rag-evaluator: filename=llama_index_packs_rag_evaluator-0.3.0-py3-none-any.whl size=4991 sha256=dd93b69aff969b2600249cffc6c86586c1b96b862917602d435950cefb381569\n",
      "  Stored in directory: /private/var/folders/wp/r73wwy856dxb48v4t1cgtn640000gn/T/pip-ephem-wheel-cache-fri3p88j/wheels/43/7b/f1/d260321934c53776306e122331ca6f7b22cc99638aea5771af\n",
      "Successfully built llama-index-packs-rag-evaluator\n",
      "Installing collected packages: llama-index-packs-rag-evaluator\n",
      "  Attempting uninstall: llama-index-packs-rag-evaluator\n",
      "    Found existing installation: llama-index-packs-rag-evaluator 0.3.0\n",
      "    Uninstalling llama-index-packs-rag-evaluator-0.3.0:\n",
      "      Successfully uninstalled llama-index-packs-rag-evaluator-0.3.0\n",
      "Successfully installed llama-index-packs-rag-evaluator-0.3.0\n"
     ]
    }
   ],
   "source": [
    "RagEvaluatorPack = download_llama_pack(\n",
    "    \"RagEvaluatorPack\", \"./rag_evaluator_pack\"\n",
    ")"
   ]
  },
  {
   "cell_type": "code",
   "execution_count": 13,
   "id": "17c439a4-8f1f-4039-8721-b08e218530db",
   "metadata": {},
   "outputs": [],
   "source": [
    "rag_evaluator_pack = RagEvaluatorPack(\n",
    "    rag_dataset=rag_dataset, \n",
    "    query_engine=query_engine,\n",
    "    show_progress=True\n",
    ")"
   ]
  },
  {
   "cell_type": "code",
   "execution_count": null,
   "id": "cb43ca45-cfd7-4181-a3d0-eecd0e046b46",
   "metadata": {},
   "outputs": [
    {
     "name": "stderr",
     "output_type": "stream",
     "text": [
      "Batch processing of predictions:  40%|████████████████████████████████████████████████████████████████████▊                                                                                                       | 40/100 [05:41<07:00,  7.01s/it]"
     ]
    }
   ],
   "source": [
    "benchmark_df = await rag_evaluator_pack.arun(\n",
    "    batch_size=100,  # batches the number of openai api calls to make\n",
    "    sleep_time_in_seconds=0,  # seconds to sleep before making an api call\n",
    ")"
   ]
  },
  {
   "cell_type": "code",
   "execution_count": 11,
   "id": "a92b1a4b-b1c7-4a5f-8088-3341717e28b1",
   "metadata": {},
   "outputs": [
    {
     "data": {
      "text/html": [
       "<div>\n",
       "<style scoped>\n",
       "    .dataframe tbody tr th:only-of-type {\n",
       "        vertical-align: middle;\n",
       "    }\n",
       "\n",
       "    .dataframe tbody tr th {\n",
       "        vertical-align: top;\n",
       "    }\n",
       "\n",
       "    .dataframe thead th {\n",
       "        text-align: right;\n",
       "    }\n",
       "</style>\n",
       "<table border=\"1\" class=\"dataframe\">\n",
       "  <thead>\n",
       "    <tr style=\"text-align: right;\">\n",
       "      <th></th>\n",
       "      <th>query</th>\n",
       "      <th>reference_contexts</th>\n",
       "      <th>reference_answer</th>\n",
       "      <th>reference_answer_by</th>\n",
       "      <th>query_by</th>\n",
       "    </tr>\n",
       "  </thead>\n",
       "  <tbody>\n",
       "    <tr>\n",
       "      <th>0</th>\n",
       "      <td>How has Apple's total net sales changed over t...</td>\n",
       "      <td>None</td>\n",
       "      <td>Based on the provided documents, Apple's total...</td>\n",
       "      <td>ai (gpt-4-turbo (with human review))</td>\n",
       "      <td>human</td>\n",
       "    </tr>\n",
       "    <tr>\n",
       "      <th>1</th>\n",
       "      <td>What are the major factors contributing to the...</td>\n",
       "      <td>None</td>\n",
       "      <td>In the most recent 10-Q for the quarter ended ...</td>\n",
       "      <td>ai (gpt-4-turbo (with human review))</td>\n",
       "      <td>human</td>\n",
       "    </tr>\n",
       "    <tr>\n",
       "      <th>2</th>\n",
       "      <td>Has there been any significant change in Apple...</td>\n",
       "      <td>None</td>\n",
       "      <td>Yes, there has been a change in Apple's operat...</td>\n",
       "      <td>ai (gpt-4-turbo (with human review))</td>\n",
       "      <td>human</td>\n",
       "    </tr>\n",
       "    <tr>\n",
       "      <th>3</th>\n",
       "      <td>How has Apple's revenue from iPhone sales fluc...</td>\n",
       "      <td>None</td>\n",
       "      <td>The revenue from iPhone sales for Apple has fl...</td>\n",
       "      <td>ai (gpt-4-turbo (with human review))</td>\n",
       "      <td>human</td>\n",
       "    </tr>\n",
       "    <tr>\n",
       "      <th>4</th>\n",
       "      <td>Can any trends be identified in Apple's Servic...</td>\n",
       "      <td>None</td>\n",
       "      <td>Based on the provided documents, there is a tr...</td>\n",
       "      <td>ai (gpt-4-turbo (with human review))</td>\n",
       "      <td>human</td>\n",
       "    </tr>\n",
       "    <tr>\n",
       "      <th>...</th>\n",
       "      <td>...</td>\n",
       "      <td>...</td>\n",
       "      <td>...</td>\n",
       "      <td>...</td>\n",
       "      <td>...</td>\n",
       "    </tr>\n",
       "    <tr>\n",
       "      <th>190</th>\n",
       "      <td>For Amazon's Q1 2023 10-Q, align the details o...</td>\n",
       "      <td>None</td>\n",
       "      <td>In Amazon's Q1 2023 10-Q, the details of debt ...</td>\n",
       "      <td>ai (gpt-4-turbo (with human review))</td>\n",
       "      <td>human</td>\n",
       "    </tr>\n",
       "    <tr>\n",
       "      <th>191</th>\n",
       "      <td>Analyze how Amazon's effective tax rate report...</td>\n",
       "      <td>None</td>\n",
       "      <td>The effective tax rate for Amazon as reported ...</td>\n",
       "      <td>ai (gpt-4-turbo (with human review))</td>\n",
       "      <td>human</td>\n",
       "    </tr>\n",
       "    <tr>\n",
       "      <th>192</th>\n",
       "      <td>From Amazon's Q3 2023 10-Q, how does the opera...</td>\n",
       "      <td>None</td>\n",
       "      <td>The operational expenses section in Amazon's Q...</td>\n",
       "      <td>ai (gpt-4-turbo (with human review))</td>\n",
       "      <td>human</td>\n",
       "    </tr>\n",
       "    <tr>\n",
       "      <th>193</th>\n",
       "      <td>In the latest 10-Q, how does the revenue from ...</td>\n",
       "      <td>None</td>\n",
       "      <td>The latest 10-Q does not provide specific info...</td>\n",
       "      <td>ai (gpt-4-turbo (with human review))</td>\n",
       "      <td>human</td>\n",
       "    </tr>\n",
       "    <tr>\n",
       "      <th>194</th>\n",
       "      <td>For Amazon's Q1 2023, how does the share repur...</td>\n",
       "      <td>None</td>\n",
       "      <td>For Q1 2023, the financial statements indicate...</td>\n",
       "      <td>ai (gpt-4-turbo (with human review))</td>\n",
       "      <td>human</td>\n",
       "    </tr>\n",
       "  </tbody>\n",
       "</table>\n",
       "<p>195 rows × 5 columns</p>\n",
       "</div>"
      ],
      "text/plain": [
       "                                                 query reference_contexts  \\\n",
       "0    How has Apple's total net sales changed over t...               None   \n",
       "1    What are the major factors contributing to the...               None   \n",
       "2    Has there been any significant change in Apple...               None   \n",
       "3    How has Apple's revenue from iPhone sales fluc...               None   \n",
       "4    Can any trends be identified in Apple's Servic...               None   \n",
       "..                                                 ...                ...   \n",
       "190  For Amazon's Q1 2023 10-Q, align the details o...               None   \n",
       "191  Analyze how Amazon's effective tax rate report...               None   \n",
       "192  From Amazon's Q3 2023 10-Q, how does the opera...               None   \n",
       "193  In the latest 10-Q, how does the revenue from ...               None   \n",
       "194  For Amazon's Q1 2023, how does the share repur...               None   \n",
       "\n",
       "                                      reference_answer  \\\n",
       "0    Based on the provided documents, Apple's total...   \n",
       "1    In the most recent 10-Q for the quarter ended ...   \n",
       "2    Yes, there has been a change in Apple's operat...   \n",
       "3    The revenue from iPhone sales for Apple has fl...   \n",
       "4    Based on the provided documents, there is a tr...   \n",
       "..                                                 ...   \n",
       "190  In Amazon's Q1 2023 10-Q, the details of debt ...   \n",
       "191  The effective tax rate for Amazon as reported ...   \n",
       "192  The operational expenses section in Amazon's Q...   \n",
       "193  The latest 10-Q does not provide specific info...   \n",
       "194  For Q1 2023, the financial statements indicate...   \n",
       "\n",
       "                      reference_answer_by query_by  \n",
       "0    ai (gpt-4-turbo (with human review))    human  \n",
       "1    ai (gpt-4-turbo (with human review))    human  \n",
       "2    ai (gpt-4-turbo (with human review))    human  \n",
       "3    ai (gpt-4-turbo (with human review))    human  \n",
       "4    ai (gpt-4-turbo (with human review))    human  \n",
       "..                                    ...      ...  \n",
       "190  ai (gpt-4-turbo (with human review))    human  \n",
       "191  ai (gpt-4-turbo (with human review))    human  \n",
       "192  ai (gpt-4-turbo (with human review))    human  \n",
       "193  ai (gpt-4-turbo (with human review))    human  \n",
       "194  ai (gpt-4-turbo (with human review))    human  \n",
       "\n",
       "[195 rows x 5 columns]"
      ]
     },
     "execution_count": 11,
     "metadata": {},
     "output_type": "execute_result"
    }
   ],
   "source": [
    "rag_dataset.to_pandas()"
   ]
  },
  {
   "cell_type": "code",
   "execution_count": null,
   "id": "2d3449aa-2054-4b14-9ce4-09073eeaad7f",
   "metadata": {},
   "outputs": [],
   "source": []
  }
 ],
 "metadata": {
  "kernelspec": {
   "display_name": "Python 3 (ipykernel)",
   "language": "python",
   "name": "python3"
  },
  "language_info": {
   "codemirror_mode": {
    "name": "ipython",
    "version": 3
   },
   "file_extension": ".py",
   "mimetype": "text/x-python",
   "name": "python",
   "nbconvert_exporter": "python",
   "pygments_lexer": "ipython3",
   "version": "3.9.13"
  }
 },
 "nbformat": 4,
 "nbformat_minor": 5
}
